{
 "cells": [
  {
   "cell_type": "markdown",
   "metadata": {},
   "source": [
    "Model evaluation, model selection and hyperparameter tuning in both a regression and classification setting."
   ]
  },
  {
   "cell_type": "markdown",
   "metadata": {},
   "source": [
    "Environment Setup"
   ]
  },
  {
   "cell_type": "code",
   "execution_count": 2,
   "metadata": {},
   "outputs": [],
   "source": [
    "\n",
    "import numpy as np\n",
    "import pandas as pd\n",
    "import matplotlib.pyplot as plt\n",
    "import seaborn as sns\n",
    "sns.set(style=\"darkgrid\")"
   ]
  },
  {
   "cell_type": "markdown",
   "metadata": {},
   "source": [
    "## Part 1: Regression"
   ]
  },
  {
   "cell_type": "markdown",
   "metadata": {},
   "source": [
    "Try to predict a real value home sale price using several models."
   ]
  },
  {
   "cell_type": "code",
   "execution_count": 3,
   "metadata": {},
   "outputs": [
    {
     "name": "stdout",
     "output_type": "stream",
     "text": [
      "       SqFtLiving1e3  SqFtLot1e3  NumBedrooms\n",
      "count         500.00      500.00       500.00\n",
      "mean            1.90        5.79         3.26\n",
      "std             0.75        2.38         0.87\n",
      "min             0.66        0.97         1.00\n",
      "25%             1.33        4.00         3.00\n",
      "50%             1.79        5.70         3.00\n",
      "75%             2.36        7.75         4.00\n",
      "max             4.20        9.99         7.00\n"
     ]
    },
    {
     "data": {
      "text/plain": [
       "<Axes: xlabel='SalePrice1e5', ylabel='Count'>"
      ]
     },
     "execution_count": 3,
     "metadata": {},
     "output_type": "execute_result"
    },
    {
     "data": {
      "image/png": "[encoded data removed]",
      "text/plain": [
       "<Figure size 640x480 with 1 Axes>"
      ]
     },
     "metadata": {},
     "output_type": "display_data"
    }
   ],
   "source": [
   
    "\n",
    "# Read in the csv file ../data/home_sales.csv \n",
    "# Store in df\n",
    "df = pd.read_csv('../data/home_sales.csv')\n",
    "\n",
    "X = df[['SqFtLiving1e3', 'SqFtLot1e3', 'NumBedrooms']]\n",
    "\n",
    "# Create a series y_r which contains only the column SalePrice1e5\n",
    "y_r = df['SalePrice1e5']\n",
    "\n",
    "# Check that X and y_r are the correct shape (500 rows)\n",
    "assert X.shape == (500,3)\n",
    "assert y_r.shape == (500,)\n",
    "\n",
    "# To confirm that all features of X are similar in scale display the .describe() of X\n",
    "#   Use .round(2) to round all values to a precision of 2\n",
    "print(X.describe().round(2))\n",
    "\n",
    "# To get a sense of the distribution of the target, plot a histogram of y_r using sns.histplot()\n",
    "sns.histplot(y_r)"
   ]
  },
  {
   "cell_type": "code",
   "execution_count": 4,
   "metadata": {},
   "outputs": [
    {
     "name": "stdout",
     "output_type": "stream",
     "text": [
      "proportion of data in test set: 0.2\n"
     ]
    }
   ],
   "source": [
    "#Create a training and test/held-aside set for regression\n",
    "\n",
    "# Import train_test_split from sklearn\n",
    "from sklearn.model_selection import train_test_split\n",
    "\n",
    "# Split X and y_r using train_test_split\n",
    "X_train_r, X_test_r, y_train_r, y_test_r = train_test_split(X, y_r, test_size=0.2, random_state=512)"
   ]
  },
  {
   "cell_type": "markdown",
   "metadata": {},
   "source": [
    "### Part 1.1 Baseline Regressor"
   ]
  },
  {
   "cell_type": "code",
   "execution_count": 5,
   "metadata": {},
   "outputs": [
    {
     "name": "stdout",
     "output_type": "stream",
     "text": [
      "dummy training set R^2: 0.0\n"
     ]
    }
   ],
   "source": [
    "Create a DummyRegressor and fit on the training set.\n",
    "\n",
    "# Import the DummyRegressor model from sklearn \n",
    "from sklearn.dummy import DummyRegressor\n",
    "\n",
    "# Instantiate a DummyRegessor model with strategy=\"mean\" (the default)\n",
    "# Store in dummy_r\n",
    "dummy_r = DummyRegressor()\n",
    "\n",
    "# Train the DummyRegressor on the regression training set\n",
    "dummy_r.fit(X_train_r, y_train_r)\n",
    "\n",
    "# Calculate the training set R^2 score of the DummyRegressor\n",
    "dummy_r_training_r2 = dummy_r.score(X_train_r, y_train_r)\n",
    "\n",
    "# Recall that this should equal 0\n",
    "print(f'dummy training set R^2: {dummy_r_training_r2.round(2)}')"
   ]
  },
  {
   "cell_type": "markdown",
   "metadata": {},
   "source": [
    "### Part 1.2 Linear Regression and Cross-Validation"
   ]
  },
  {
   "cell_type": "code",
   "execution_count": 6,
   "metadata": {},
   "outputs": [
    {
     "name": "stdout",
     "output_type": "stream",
     "text": [
      "lr training set R^2: 0.49\n"
     ]
    }
   ],
   "source": [
    "#Train a Linear Regression model and calculate training set R^2.\n",
    "\n",
    "# Import the LinearRegression model from sklearn\n",
    "from sklearn.linear_model import LinearRegression\n",
    "\n",
    "# Instantiate a LinearRegression model Store in lr\n",
    "lr = LinearRegression().fit(X_train_r, y_train_r)\n",
    "\n",
    "# Calculate the training set R^2 of the LinearRegression model\n",
    "lr_training_r2 = lr.score(X_train_r, y_train_r)\n",
    "\n",
    "# This should be better than our dummy R^2\n",
    "print(f'lr training set R^2: {lr_training_r2.round(2)}')"
   ]
  },
  {
   "cell_type": "code",
   "execution_count": 7,
   "metadata": {},
   "outputs": [
    {
     "data": {
      "text/plain": [
       "array([0.5 , 0.51, 0.48, 0.34, 0.44])"
      ]
     },
     "execution_count": 7,
     "metadata": {},
     "output_type": "execute_result"
    }
   ],
   "source": [
    "#   Use 5-fold Cross Validation to get a sense of the variation \n",
    "#    of Liner Regression R^2 performance on the training set.\n",
    "\n",
    "# Import cross_val_score from sklearn.\n",
    "from sklearn.model_selection import cross_val_score\n",
    "\n",
    "# Generate 5-fold cross-validation R^2 scores \n",
    "# Store in lr_cv_scores\n",
    "lr_cv_scores = cross_val_score(LinearRegression(), X_train_r, y_train_r, cv=5)\n",
    "\n",
    "# Print out the R^2 scores found by cross_val_score rounded to a precision of 2\n",
    "lr_cv_scores.round(2) "
   ]
  },
  {
   "cell_type": "code",
   "execution_count": 8,
   "metadata": {},
   "outputs": [
    {
     "name": "stdout",
     "output_type": "stream",
     "text": [
      "lr mean cv r2: 0.45 +- 0.12\n"
     ]
    }
   ],
   "source": [
    "#Calculate mean training cv R^2 score +- 2 std. deviations\n",
    "\n",
    "# Calculate the mean training cross validation score using the scores created above\n",
    "lr_cv_mean = lr_cv_scores.mean()\n",
    "\n",
    "# Calculate 2 standard deviations of the cross validation scores\n",
    "lr_cv_2std = lr_cv_scores.std() * 2\n",
    "\n",
    "# Print out the mean R^2 +- 2 standard variations for the LinearRegression model\n",
    "#   each rounded to a precision of 2\n",
    "print(f'lr mean cv r2: {lr_cv_mean.round(2)} +- {lr_cv_2std.round(2)}')"
   ]
  },
  {
   "cell_type": "markdown",
   "metadata": {},
   "source": [
    "### Part 1.3 Overfitting with a Decision Tree"
   ]
  },
  {
   "cell_type": "code",
   "execution_count": 9,
   "metadata": {},
   "outputs": [
    {
     "name": "stdout",
     "output_type": "stream",
     "text": [
      "dummy training set R^2: 0.95\n"
     ]
    }
   ],
   "source": [
    "#  Create a DecisionTreeRegressor and fit on the training set.\n",
    "\n",
    "# Import the DecisionTreeRegressor model from sklearn \n",
    "from sklearn.tree import DecisionTreeRegressor\n",
    "\n",
    "# Instantiate a DecisionTreeRegressor model \n",
    "#    with max_depth=10\n",
    "#    and fit on the training set\n",
    "# Store in dtr\n",
    "dtr = DecisionTreeRegressor(max_depth=10).fit(X_train_r, y_train_r)\n",
    "\n",
    "# Calculate the training set R^2 score of the DecisionTreeRegressor\n",
    "dtr_training_r2 = dtr.score(X_train_r, y_train_r)\n",
    "\n",
    "# This should be a high R^2 value\n",
    "print(f'dummy training set R^2: {dtr_training_r2.round(2)}')"
   ]
  },
  {
   "cell_type": "markdown",
   "metadata": {},
   "source": [
    "### Part 1.3 Evaluate on Test Set"
   ]
  },
  {
   "cell_type": "code",
   "execution_count": 10,
   "metadata": {},
   "outputs": [
    {
     "name": "stdout",
     "output_type": "stream",
     "text": [
      "dummy test R2 : -0.01\n",
      "   lr test R2 :  0.39\n",
      "  dtr test R2 : -0.07\n"
     ]
    }
   ],
   "source": [
    "# Evaluate performance of our trained models on the test set.\n",
    "\n",
    "# Calculate R^2 on the test set using the previously trained models\n",
    "dummy_r_test_r2 = dummy_r.score(X_test_r, y_test_r)\n",
    "\n",
    "lr_test_r2 = lr.score(X_test_r, y_test_r)\n",
    "\n",
    "dtr_test_r2 = dtr.score(X_test_r, y_test_r)\n",
    "\n",
    "print(f'dummy test R2 : {dummy_r_test_r2.round(2): .2f}') # this may be less than 0\n",
    "print(f'   lr test R2 : {lr_test_r2.round(2): .2f}')      # this should within the lr training cv += 2 std devs\n",
    "print(f'  dtr test R2 : {dtr_test_r2.round(2): .2f}')     # this should show overfitting"
   ]
  },
  {
   "cell_type": "markdown",
   "metadata": {},
   "source": [
    "---"
   ]
  },
  {
   "cell_type": "markdown",
   "metadata": {},
   "source": [
    "## Part 2: Classification"
   ]
  },
  {
   "cell_type": "markdown",
   "metadata": {},
   "source": [
    "Here we build several models to classify low vs. high sale price, create a validation curve and perform grid search."
   ]
  },
  {
   "cell_type": "markdown",
   "metadata": {},
   "source": [
    "### Create Classification Target"
   ]
  },
  {
   "cell_type": "code",
   "execution_count": 11,
   "metadata": {},
   "outputs": [
    {
     "data": {
      "text/plain": [
       "0    305\n",
       "1    195\n",
       "Name: SalePrice1e5, dtype: int64"
      ]
     },
     "execution_count": 11,
     "metadata": {},
     "output_type": "execute_result"
    }
   ],
   "source": [
    "# To reuse the same dataset, we'll first create a binary target for \n",
    "#    classification by thresholding at the mean of our SalePrice1e5\n",
    "\n",
    "# The classes are:\n",
    "#    Low  SalePrice1e5 = 0\n",
    "#    High SalePrice1e5 = 1\n",
    "\n",
    "y_c = (df.SalePrice1e5 > df.SalePrice1e5.mean()).astype(int)\n",
    "\n",
    "# Print out the class labels with count\n",
    "pd.Series(y_c).value_counts()"
   ]
  },
  {
   "cell_type": "markdown",
   "metadata": {},
   "source": [
    "### Part 2.1 Create Classification Train/Test Split"
   ]
  },
  {
   "cell_type": "code",
   "execution_count": 12,
   "metadata": {},
   "outputs": [
    {
     "name": "stdout",
     "output_type": "stream",
     "text": [
      "proportion of Low values: 0.61\n"
     ]
    }
   ],
   "source": [
    "#Create a training and test/held-aside set for classifiction\n",
    "\n",
    "# Split X (the same X as before) and the new y_c using train_test_split\n",
    "#   Stratify according to y_c so class proportions are the same in train and test\n",
    "X_train_c, X_test_c, y_train_c, y_test_c = train_test_split(X, y_c, test_size=0.2, stratify=y_c, random_state=512)\n",
    "\n",
    "proportion_low_values = (y_c == 0).mean()\n",
    "print(f'proportion of Low values: {proportion_low_values.round(2)}') # should be near 60%\n",
    "\n",
    "proportion_low_train = (y_train_c == 0).mean()\n",
    "proportion_low_test = (y_test_c == 0).mean()\n",
    "\n",
    "# Assert that train and test have similar class proportions.\n",
    "assert abs(proportion_low_train - proportion_low_test) < 0.01"
   ]
  },
  {
   "cell_type": "markdown",
   "metadata": {},
   "source": [
    "### Part 2.2 Measure Classification Baseline Performance"
   ]
  },
  {
   "cell_type": "code",
   "execution_count": 13,
   "metadata": {},
   "outputs": [
    {
     "name": "stdout",
     "output_type": "stream",
     "text": [
      "dummy training set accuracy: 0.61\n"
     ]
    }
   ],
   "source": [
    "# Create a Dummy Classifier and confirm the expected performance on the training set.\n",
    "\n",
    "# Import DummyClassifier from sklearn\n",
    "from sklearn.dummy import DummyClassifier\n",
    "\n",
    "# Instantiate a DummyClassifier with strategy=\"prior\" (default) \n",
    "dummy_c = DummyClassifier().fit(X_train_c, y_train_c)\n",
    "\n",
    "# Print the trained DummyClassifier accuracy on the training set rounded to a precision of 2\n",
    "#   It should match the proportion of Low values we saw above.\n",
    "print(f'dummy training set accuracy: {dummy_c.score(X_train_c, y_train_c).round(2)}')"
   ]
  },
  {
   "cell_type": "markdown",
   "metadata": {},
   "source": [
    "### Part 2.3  Logistic Regression model"
   ]
  },
  {
   "cell_type": "code",
   "execution_count": 14,
   "metadata": {},
   "outputs": [
    {
     "name": "stdout",
     "output_type": "stream",
     "text": [
      "logr mean cv accuracy: 0.78\n"
     ]
    }
   ],
   "source": [
    "#     It's good practice to start with a \"simple\" model.\n",
    "#     Train and calculate 5-fold cv training set accuracy for a Logistic Regression Classifier.\n",
    "\n",
    "# Import LogisticRegression from sklearn\n",
    "from sklearn.linear_model import LogisticRegression\n",
    "\n",
    "# Generate 5-fold cross validation accuracy on the training set\n",
    "logr_cv_scores = cross_val_score(LogisticRegression(), X_train_c, y_train_c, cv=5)\n",
    "\n",
    "# Print out the mean cv accuracy for the LogisticRegression model rounded to a precision of 2\n",
    "print(f'logr mean cv accuracy: {logr_cv_scores.mean().round(2)}')"
   ]
  },
  {
   "cell_type": "markdown",
   "metadata": {},
   "source": [
    "### Part 2.4 GradientBoosting model"
   ]
  },
  {
   "cell_type": "code",
   "execution_count": 15,
   "metadata": {},
   "outputs": [
    {
     "name": "stdout",
     "output_type": "stream",
     "text": [
      "gbc mean cv accuracy: 0.72\n"
     ]
    }
   ],
   "source": [
    "#     Train and calculate 5-fold cv accuracy \n",
    "#     for a GradientBoosting model using the training set.\n",
    "\n",
    "# Import the GradientBoostingClassifier model from sklearn\n",
    "from sklearn.ensemble import GradientBoostingClassifier\n",
    "\n",
    "# Calculate 5-fold cv training set accuracy scores \n",
    "# This time call cross_val_score with n_jobs=-1 (use one core for each fold) to speed up the cv calculations\n",
    "gbc_cv_scores = cross_val_score(GradientBoostingClassifier(n_estimators=50, max_depth=10), X_train_c, y_train_c, cv=5, n_jobs=-1)\n",
    " \n",
    "print(f'gbc mean cv accuracy: {gbc_cv_scores.mean().round(2)}')"
   ]
  },
  {
   "cell_type": "markdown",
   "metadata": {},
   "source": [
    "### Part 2.5 GradientBoosting and Validation Curve"
   ]
  },
  {
   "cell_type": "code",
   "execution_count": 16,
   "metadata": {},
   "outputs": [
    {
     "data": {
      "text/plain": [
       "array([[0.79, 0.81, 0.8 ],\n",
       "       [0.83, 0.86, 0.84],\n",
       "       [0.91, 0.92, 0.91],\n",
       "       [0.99, 0.99, 1.  ],\n",
       "       [1.  , 1.  , 1.  ]])"
      ]
     },
     "execution_count": 16,
     "metadata": {},
     "output_type": "execute_result"
    }
   ],
   "source": [
    "#     Generate a validation curve for tree depths in the GradientBoosting model.\n",
    "\n",
    "# Import the validation_curve function from sklearn\n",
    "from sklearn.model_selection import validation_curve\n",
    "\n",
    "# In the GradientBoostingClassifier model, the depth of trees is set via max_depth\n",
    "# Create a list depths that contains the values 1,2,3,5,10\n",
    "depths = [1, 2, 3, 5, 10]\n",
    "\n",
    "# Generate the train_scores and test_scores for max_depth at different maximum depths\n",
    "# Store the results in train_scores,test_scores\n",
    "train_scores, test_scores = validation_curve(GradientBoostingClassifier(n_estimators=50), X_train_c, y_train_c, param_name='max_depth', param_range=depths, cv=3, n_jobs=-1)\n",
    "\n",
    "train_scores.round(2)"
   ]
  },
  {
   "cell_type": "code",
   "execution_count": 17,
   "metadata": {},
   "outputs": [
    {
     "data": {
      "text/html": [
       "<div>\n",
       "<style scoped>\n",
       "    .dataframe tbody tr th:only-of-type {\n",
       "        vertical-align: middle;\n",
       "    }\n",
       "\n",
       "    .dataframe tbody tr th {\n",
       "        vertical-align: top;\n",
       "    }\n",
       "\n",
       "    .dataframe thead th {\n",
       "        text-align: right;\n",
       "    }\n",
       "</style>\n",
       "<table border=\"1\" class=\"dataframe\">\n",
       "  <thead>\n",
       "    <tr style=\"text-align: right;\">\n",
       "      <th></th>\n",
       "      <th>mean_train_scores</th>\n",
       "      <th>mean_test_scores</th>\n",
       "    </tr>\n",
       "  </thead>\n",
       "  <tbody>\n",
       "    <tr>\n",
       "      <th>1</th>\n",
       "      <td>0.80</td>\n",
       "      <td>0.76</td>\n",
       "    </tr>\n",
       "    <tr>\n",
       "      <th>2</th>\n",
       "      <td>0.85</td>\n",
       "      <td>0.79</td>\n",
       "    </tr>\n",
       "    <tr>\n",
       "      <th>3</th>\n",
       "      <td>0.91</td>\n",
       "      <td>0.77</td>\n",
       "    </tr>\n",
       "    <tr>\n",
       "      <th>5</th>\n",
       "      <td>0.99</td>\n",
       "      <td>0.77</td>\n",
       "    </tr>\n",
       "    <tr>\n",
       "      <th>10</th>\n",
       "      <td>1.00</td>\n",
       "      <td>0.72</td>\n",
       "    </tr>\n",
       "  </tbody>\n",
       "</table>\n",
       "</div>"
      ],
      "text/plain": [
       "    mean_train_scores  mean_test_scores\n",
       "1                0.80              0.76\n",
       "2                0.85              0.79\n",
       "3                0.91              0.77\n",
       "5                0.99              0.77\n",
       "10               1.00              0.72"
      ]
     },
     "metadata": {},
     "output_type": "display_data"
    },
    {
     "data": {
      "text/plain": [
       "Text(0, 0.5, 'mean accuracy')"
      ]
     },
     "execution_count": 17,
     "metadata": {},
     "output_type": "execute_result"
    },
    {
     "data": {
      "image/png": "[encoded data removed]",
      "text/plain": [
       "<Figure size 640x480 with 1 Axes>"
      ]
     },
     "metadata": {},
     "output_type": "display_data"
    }
   ],
   "source": [
    "#  Plot the validation curves generated above\n",
    "\n",
    "# train_scores and test_scores each contain a 2-D array of values\n",
    "mean_train_scores = train_scores.mean(axis=1)\n",
    "mean_test_scores = test_scores.mean(axis=1)\n",
    "\n",
    "assert mean_train_scores.shape == (5,) # There should now be 5 floats, one per row, and no columns\n",
    "assert mean_test_scores.shape == (5,)\n",
    "\n",
    "# Store in df_val_scores\n",
    "df_val_scores = pd.DataFrame({'mean_train_scores': mean_train_scores, 'mean_test_scores': mean_test_scores}, index=depths)\n",
    "\n",
    "# Display df_val_scores with values rounded to a precision of 2\n",
    "display(df_val_scores.round(2))\n",
    "\n",
    "# Plot the values in df_val_scores \n",
    "ax = df_val_scores.plot(kind='line')\n",
    "ax.set_xlabel(\"max_depth\")\n",
    "ax.set_ylabel(\"mean accuracy\")"
   ]
  },
  {
   "cell_type": "markdown",
   "metadata": {},
   "source": [
    "### Part 2.6 GradientBoosting and Grid Search"
   ]
  },
  {
   "cell_type": "code",
   "execution_count": 18,
   "metadata": {},
   "outputs": [
    {
     "name": "stdout",
     "output_type": "stream",
     "text": [
      "gbc best hyperparams      : {'max_depth': 1, 'n_estimators': 200}\n",
      "gbc best mean cv accuracy : 0.797534881981072\n"
     ]
    }
   ],
   "source": [
    "#     Now let's tune two hyperparameters at the same time.\n",
    "#     Perform 3-fold cross validated grid search over \"number of trees\" and \"tree depth\".\n",
    "\n",
    "from sklearn.model_selection import GridSearchCV\n",
    "\n",
    "# Create the grid of parameters to test as a dictionary\n",
    "param_grid = {'n_estimators': [10, 50, 100, 200], 'max_depth': [1, 2, 3, 5, 10]}\n",
    "\n",
    "# Instantiate and fit GridSearchCV on the classification training set\n",
    "gbc_gscv = GridSearchCV(GradientBoostingClassifier(), param_grid, cv=3, n_jobs=-1).fit(X_train_c, y_train_c)\n",
    "\n",
    "# Print out the best the best hyperparameter setting found (best_params_) \n",
    "#    and the mean accuracy they produced (best_score_)\n",
    "print(f'gbc best hyperparams      : {gbc_gscv.best_params_}')\n",
    "print(f'gbc best mean cv accuracy : {gbc_gscv.best_score_}')\n"
   ]
  },
  {
   "cell_type": "markdown",
   "metadata": {},
   "source": [
    "### Part 2.7 Evaluate on Test"
   ]
  },
  {
   "cell_type": "code",
   "execution_count": 19,
   "metadata": {},
   "outputs": [
    {
     "name": "stdout",
     "output_type": "stream",
     "text": [
      "best model found: ____\n",
      "logr test acc     : 0.77\n",
      "gbc_gscv test acc : 0.76\n"
     ]
    }
   ],
   "source": [
    "\n",
    "print('best model found: logr test')\n",
    "\n",
    "# To see how each of our models would generalize to new data, calculate the **test set** accuracy for each of our trained models\n",
    "\n",
    "\n",
    "logr = LogisticRegression().fit(X_train_c, y_train_c)\n",
    "\n",
    "# Find the test set accuracy of both of our trained models\n",
    "logr_test_acc = logr.score(X_test_c, y_test_c)\n",
    "gbc_test_acc = gbc_gscv.score(X_test_c, y_test_c)\n",
    "\n",
    "\n",
    "print(f'logr test acc     : {logr_test_acc.round(2)}')\n",
    "print(f'gbc_gscv test acc : {gbc_test_acc.round(2)}')"
   ]
  }
 ],
 "metadata": {
  "kernelspec": {
   "display_name": "eods-f23",
   "language": "python",
   "name": "eods-f23"
  },
  "language_info": {
   "codemirror_mode": {
    "name": "ipython",
    "version": 3
   },
   "file_extension": ".py",
   "mimetype": "text/x-python",
   "name": "python",
   "nbconvert_exporter": "python",
   "pygments_lexer": "ipython3",
   "version": "3.10.12"
  },
  "toc": {
   "base_numbering": 1,
   "nav_menu": {},
   "number_sections": false,
   "sideBar": true,
   "skip_h1_title": false,
   "title_cell": "Table of Contents",
   "title_sidebar": "Contents",
   "toc_cell": false,
   "toc_position": {},
   "toc_section_display": true,
   "toc_window_display": false
  }
 },
 "nbformat": 4,
 "nbformat_minor": 2
}
